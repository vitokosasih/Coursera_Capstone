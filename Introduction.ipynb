{
  "nbformat": 4,
  "nbformat_minor": 0,
  "metadata": {
    "colab": {
      "name": "Introduction.ipynb",
      "provenance": [],
      "collapsed_sections": [],
      "toc_visible": true,
      "authorship_tag": "ABX9TyNbWiLqsZAPYM2I3lucZhHR",
      "include_colab_link": true
    },
    "kernelspec": {
      "name": "python3",
      "display_name": "Python 3"
    },
    "language_info": {
      "name": "python"
    }
  },
  "cells": [
    {
      "cell_type": "markdown",
      "metadata": {
        "id": "view-in-github",
        "colab_type": "text"
      },
      "source": [
        "<a href=\"https://colab.research.google.com/github/vitokosasih/Coursera_Capstone/blob/master/Introduction.ipynb\" target=\"_parent\"><img src=\"https://colab.research.google.com/assets/colab-badge.svg\" alt=\"Open In Colab\"/></a>"
      ]
    },
    {
      "cell_type": "markdown",
      "metadata": {
        "id": "01Wvbnjti3tf"
      },
      "source": [
        "# Background"
      ]
    },
    {
      "cell_type": "markdown",
      "metadata": {
        "id": "yiBS5L5ui7cu"
      },
      "source": [
        "Jakarta is the largest and most populous city in Indonesia with a total population of around 10 million people and a population density of around 16,000 people / km. These 2 factors make Jakarta a very good business field."
      ]
    },
    {
      "cell_type": "markdown",
      "metadata": {
        "id": "gg0FtoNxj9wc"
      },
      "source": [
        "# Business Problem"
      ]
    },
    {
      "cell_type": "markdown",
      "metadata": {
        "id": "AvulzEpikCYp"
      },
      "source": [
        "There is a cafe brand that is well known among young people in Australia who want to open their first branch in Indonesia, to be precise in Jakarta. It takes careful consideration to determine which location is the best choice for them.\n",
        "\n",
        "To launch this project, the brand needs more knowledge about demographics in Jakarta, such as:\n",
        "\n",
        "\n",
        "1.   How many cafes are already established in the area?\n",
        "2.   what is the most popular venues?\n",
        "3.   What is the total population of young people (their's target market) in the area?\n",
        "\n"
      ]
    },
    {
      "cell_type": "markdown",
      "metadata": {
        "id": "fp6FmVLpmLqD"
      },
      "source": [
        "# Data Collection"
      ]
    },
    {
      "cell_type": "markdown",
      "metadata": {
        "id": "5FhmWGB-mQk8"
      },
      "source": [
        "To provide answers to the questions above, we need to collect data from several sources, including:\n",
        "\n",
        "1.   1st data: contains the latitude, longitude for each neighborhood in Jakarta.\n",
        "2.   2nd data: https://data.jakarta.go.id/dataset/jumlah-penduduk-berdasarkan-tenaga-kerja-jenis-kelamin-dan-umur contains the total population based on age categories in each neighborhood in Jakarta.\n",
        "3.   3rd data: https://developer.foursquare.com/ contains the most popular or common venues of a given neighborhood in Jakarta.\n",
        "\n"
      ]
    }
  ]
}